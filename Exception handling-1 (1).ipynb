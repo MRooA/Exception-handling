{
 "cells": [
  {
   "cell_type": "code",
   "execution_count": 1,
   "id": "e522afe8-caed-4b50-9fe2-4429da035b2e",
   "metadata": {},
   "outputs": [
    {
     "data": {
      "text/plain": [
       "\"Q1. What is an Exception in python? Write the difference between Exceptions and Syntax errors.\\n\\nIn Python, an exception is an error that occurs during the execution of a program. Think of it like a roadblock in your code's journey. When Python \\nencounters an exception, it disrupts the normal flow of the program and throws an error message.\\n\\nSyntax Errors\\n\\nWhat they are: These are errors in the structure of your code, like missing punctuation, incorrect keywords, or mismatched parentheses. Python can't\\nunderstand your instructions because the code doesn't follow its grammar rules.\\nWhen they occur: Syntax errors happen before your program even starts running. Python catches these errors during the compilation phase.\\nExample:\\n\""
      ]
     },
     "execution_count": 1,
     "metadata": {},
     "output_type": "execute_result"
    }
   ],
   "source": [
    "'''Q1. What is an Exception in python? Write the difference between Exceptions and Syntax errors.\n",
    "\n",
    "In Python, an exception is an error that occurs during the execution of a program. Think of it like a roadblock in your code's journey. When Python \n",
    "encounters an exception, it disrupts the normal flow of the program and throws an error message.\n",
    "\n",
    "Syntax Errors\n",
    "\n",
    "What they are: These are errors in the structure of your code, like missing punctuation, incorrect keywords, or mismatched parentheses. Python can't\n",
    "understand your instructions because the code doesn't follow its grammar rules.\n",
    "When they occur: Syntax errors happen before your program even starts running. Python catches these errors during the compilation phase.\n",
    "Example:\n",
    "'''"
   ]
  },
  {
   "cell_type": "code",
   "execution_count": 5,
   "id": "52204c54-34c3-4e53-b897-73b0e1533242",
   "metadata": {},
   "outputs": [
    {
     "ename": "SyntaxError",
     "evalue": "unterminated string literal (detected at line 1) (995357991.py, line 1)",
     "output_type": "error",
     "traceback": [
      "\u001b[1;36m  Cell \u001b[1;32mIn[5], line 1\u001b[1;36m\u001b[0m\n\u001b[1;33m    print(\"Hello, world!)\u001b[0m\n\u001b[1;37m          ^\u001b[0m\n\u001b[1;31mSyntaxError\u001b[0m\u001b[1;31m:\u001b[0m unterminated string literal (detected at line 1)\n"
     ]
    }
   ],
   "source": [
    "print(\"Hello, world!) "
   ]
  },
  {
   "cell_type": "code",
   "execution_count": 7,
   "id": "ede3c1a1-18a7-4ce1-bb59-ad1c74783faf",
   "metadata": {},
   "outputs": [
    {
     "data": {
      "text/plain": [
       "\"Exceptions\\n\\nWhat they are: These are errors that occur during the execution of your program. They happen when something unexpected happens, \\nlike trying to divide\\nby zero, opening a file that doesn't exist, or attempting to access an element in a list that doesn't exist.\\nWhen they occur: Exceptions happen when your program is running and encounters a problem.\\nExample:\""
      ]
     },
     "execution_count": 7,
     "metadata": {},
     "output_type": "execute_result"
    }
   ],
   "source": [
    "'''Exceptions\n",
    "\n",
    "What they are: These are errors that occur during the execution of your program. They happen when something unexpected happens, \n",
    "like trying to divide\n",
    "by zero, opening a file that doesn't exist, or attempting to access an element in a list that doesn't exist.\n",
    "When they occur: Exceptions happen when your program is running and encounters a problem.\n",
    "Example:'''"
   ]
  },
  {
   "cell_type": "code",
   "execution_count": 9,
   "id": "ea009dc7-f6c7-4eac-b03a-7446bb77a52e",
   "metadata": {},
   "outputs": [
    {
     "ename": "ZeroDivisionError",
     "evalue": "division by zero",
     "output_type": "error",
     "traceback": [
      "\u001b[1;31m---------------------------------------------------------------------------\u001b[0m",
      "\u001b[1;31mZeroDivisionError\u001b[0m                         Traceback (most recent call last)",
      "Cell \u001b[1;32mIn[9], line 2\u001b[0m\n\u001b[0;32m      1\u001b[0m number \u001b[38;5;241m=\u001b[39m \u001b[38;5;241m10\u001b[39m\n\u001b[1;32m----> 2\u001b[0m result \u001b[38;5;241m=\u001b[39m number \u001b[38;5;241m/\u001b[39m \u001b[38;5;241m0\u001b[39m\n",
      "\u001b[1;31mZeroDivisionError\u001b[0m: division by zero"
     ]
    }
   ],
   "source": [
    "number = 10\n",
    "result = number / 0 \n"
   ]
  },
  {
   "cell_type": "code",
   "execution_count": 11,
   "id": "e09b0632-9208-4358-9d7a-dc5debbfdb46",
   "metadata": {},
   "outputs": [
    {
     "data": {
      "text/plain": [
       "\"Q2. What happens when an exception is not handled? Explain with an example.\\n\\nImagine you're driving down a road and suddenly hit a pothole. If you don't take action to avoid it(like swerving or braking),\\nyour car might get damaged. Similarly, in Python, if an exception occurs and you don't handle it, your program might crash.\\n\\n\""
      ]
     },
     "execution_count": 11,
     "metadata": {},
     "output_type": "execute_result"
    }
   ],
   "source": [
    "'''Q2. What happens when an exception is not handled? Explain with an example.\n",
    "\n",
    "Imagine you're driving down a road and suddenly hit a pothole. If you don't take action to avoid it(like swerving or braking),\n",
    "your car might get damaged. Similarly, in Python, if an exception occurs and you don't handle it, your program might crash.\n",
    "\n",
    "'''"
   ]
  },
  {
   "cell_type": "code",
   "execution_count": 13,
   "id": "68e3600f-3ea1-489b-b785-d5a48bf94ff3",
   "metadata": {},
   "outputs": [
    {
     "ename": "ZeroDivisionError",
     "evalue": "division by zero",
     "output_type": "error",
     "traceback": [
      "\u001b[1;31m---------------------------------------------------------------------------\u001b[0m",
      "\u001b[1;31mZeroDivisionError\u001b[0m                         Traceback (most recent call last)",
      "Cell \u001b[1;32mIn[13], line 4\u001b[0m\n\u001b[0;32m      1\u001b[0m \u001b[38;5;28;01mdef\u001b[39;00m \u001b[38;5;21mdivide\u001b[39m(a, b):\n\u001b[0;32m      2\u001b[0m   \u001b[38;5;28;01mreturn\u001b[39;00m a \u001b[38;5;241m/\u001b[39m b\n\u001b[1;32m----> 4\u001b[0m result \u001b[38;5;241m=\u001b[39m divide(\u001b[38;5;241m10\u001b[39m, \u001b[38;5;241m0\u001b[39m)\n\u001b[0;32m      5\u001b[0m \u001b[38;5;28mprint\u001b[39m(result)\n",
      "Cell \u001b[1;32mIn[13], line 2\u001b[0m, in \u001b[0;36mdivide\u001b[1;34m(a, b)\u001b[0m\n\u001b[0;32m      1\u001b[0m \u001b[38;5;28;01mdef\u001b[39;00m \u001b[38;5;21mdivide\u001b[39m(a, b):\n\u001b[1;32m----> 2\u001b[0m   \u001b[38;5;28;01mreturn\u001b[39;00m a \u001b[38;5;241m/\u001b[39m b\n",
      "\u001b[1;31mZeroDivisionError\u001b[0m: division by zero"
     ]
    }
   ],
   "source": [
    "def divide(a, b):\n",
    "  return a / b\n",
    "\n",
    "result = divide(10, 0)\n",
    "print(result)\n"
   ]
  },
  {
   "cell_type": "code",
   "execution_count": 15,
   "id": "5d52df6f-cc29-472b-a31a-ad1b22aa3635",
   "metadata": {},
   "outputs": [
    {
     "data": {
      "text/plain": [
       "\"In this example, we try to divide 10 by 0. This will raise a ZeroDivisionError exception.\\nSince we don't have a try...except block to handle it, the program will terminate, and \\nPython will print an error message\""
      ]
     },
     "execution_count": 15,
     "metadata": {},
     "output_type": "execute_result"
    }
   ],
   "source": [
    "'''In this example, we try to divide 10 by 0. This will raise a ZeroDivisionError exception.\n",
    "Since we don't have a try...except block to handle it, the program will terminate, and \n",
    "Python will print an error message'''"
   ]
  },
  {
   "cell_type": "code",
   "execution_count": 17,
   "id": "6e24ff34-e9e2-42d2-a36e-da82425bab53",
   "metadata": {},
   "outputs": [
    {
     "data": {
      "text/plain": [
       "\"Q3. Which Python statements are used to catch and handle exceptions? Explain with an example.\\n\\n In Python, the try...except block is our superhero for catching and handling exceptions. It's like\\n having a safety net in place to gracefully deal with unexpected errors.\\n\""
      ]
     },
     "execution_count": 17,
     "metadata": {},
     "output_type": "execute_result"
    }
   ],
   "source": [
    "'''Q3. Which Python statements are used to catch and handle exceptions? Explain with an example.\n",
    "\n",
    " In Python, the try...except block is our superhero for catching and handling exceptions. It's like\n",
    " having a safety net in place to gracefully deal with unexpected errors.\n",
    "'''"
   ]
  },
  {
   "cell_type": "code",
   "execution_count": 19,
   "id": "d8971a28-a867-4eec-aba9-d72e9d9650ed",
   "metadata": {},
   "outputs": [
    {
     "name": "stdout",
     "output_type": "stream",
     "text": [
      "You can't divide by zero!\n"
     ]
    }
   ],
   "source": [
    "try:\n",
    "  # This code might raise a ZeroDivisionError\n",
    "  number = 10\n",
    "  result = number / 0\n",
    "  print(result)\n",
    "except ZeroDivisionError:\n",
    "  # This code will execute if a ZeroDivisionError occurs\n",
    "  print(\"You can't divide by zero!\")\n"
   ]
  },
  {
   "cell_type": "code",
   "execution_count": 21,
   "id": "f8939e2b-4f2c-4def-98b1-c515448b4a53",
   "metadata": {},
   "outputs": [
    {
     "data": {
      "text/plain": [
       "'In this example:\\n\\nThe try block attempts to divide number by 0, which will raise a ZeroDivisionError.\\nThe except ZeroDivisionError block catches this specific exception and prints a user-friendly message.\\nKey Points:\\nYou can have multiple except blocks to handle different types of exceptions.\\nYou can also use a general except Exception: block to catch any exception.\\nYou can use the else block to execute code only if no exception occurs.\\nThe finally block will always execute, whether an exception occurs or not. This is useful\\nfor cleanup tasks, like closing files.'"
      ]
     },
     "execution_count": 21,
     "metadata": {},
     "output_type": "execute_result"
    }
   ],
   "source": [
    "'''In this example:\n",
    "\n",
    "The try block attempts to divide number by 0, which will raise a ZeroDivisionError.\n",
    "The except ZeroDivisionError block catches this specific exception and prints a user-friendly message.\n",
    "Key Points:\n",
    "You can have multiple except blocks to handle different types of exceptions.\n",
    "You can also use a general except Exception: block to catch any exception.\n",
    "You can use the else block to execute code only if no exception occurs.\n",
    "The finally block will always execute, whether an exception occurs or not. This is useful\n",
    "for cleanup tasks, like closing files.'''"
   ]
  },
  {
   "cell_type": "code",
   "execution_count": 23,
   "id": "e305f139-4088-419f-b436-2b4e39558e86",
   "metadata": {},
   "outputs": [
    {
     "data": {
      "text/plain": [
       "'Q4. Explain with an example:\\n a.try and else\\n b.finall\\n c.raise'"
      ]
     },
     "execution_count": 23,
     "metadata": {},
     "output_type": "execute_result"
    }
   ],
   "source": [
    "'''Q4. Explain with an example:\n",
    " a.try and else\n",
    " b.finall\n",
    " c.raise'''"
   ]
  },
  {
   "cell_type": "code",
   "execution_count": 25,
   "id": "a5397c9f-d231-497b-8b99-a1a1d6b0d18a",
   "metadata": {},
   "outputs": [],
   "source": [
    "def bake_cake():\n",
    "  try:\n",
    "    # Get the ingredients\n",
    "    ingredients = get_ingredients()\n",
    "\n",
    "    # Mix the batter\n",
    "    batter = mix_batter(ingredients)\n",
    "\n",
    "    # Bake the cake\n",
    "    cake = bake(batter)\n",
    "\n",
    "    # Decorate the cake\n",
    "    decorate(cake)\n",
    "\n",
    "    print(\"Cake baked successfully!\")\n",
    "\n",
    "  except MissingIngredientError:\n",
    "    print(\"Oops! We're missing an ingredient. Can't bake the cake.\")\n",
    "\n",
    "  except BakingError:\n",
    "    print(\"Something went wrong during baking.  Try again later.\")\n",
    "\n",
    "  else:\n",
    "    print(\"Cake is ready to be served!\")\n",
    "\n",
    "  finally:\n",
    "    print(\"Cleaning up the kitchen...\")\n",
    "\n",
    "# Example of raising an exception\n",
    "def get_ingredients():\n",
    "  if not enough_flour():\n",
    "    raise MissingIngredientError(\"We need more flour!\")\n",
    "  return [\"flour\", \"sugar\", \"eggs\", \"butter\"]\n",
    "\n",
    "# Example of a custom exception class\n",
    "class MissingIngredientError(Exception):\n",
    "  pass\n",
    "\n",
    "class BakingError(Exception):\n",
    "  pass"
   ]
  },
  {
   "cell_type": "code",
   "execution_count": null,
   "id": "3b7f31bd-361f-40f1-b69a-f1cda524646c",
   "metadata": {},
   "outputs": [],
   "source": []
  },
  {
   "cell_type": "code",
   "execution_count": 28,
   "id": "7ae60a46-ab90-493f-89e5-38419fd44674",
   "metadata": {},
   "outputs": [
    {
     "data": {
      "text/plain": [
       "\"Q5. What are Custom Exceptions in python? Why do we need Custom Exceptions? Explain with an example.\\nCustom Exceptions in Python\\nCustom exceptions are like specialized error messages that you create to represent specific errors\\nin your code. They're like having a unique code word for each type of problem that might occur.\\nWhy Use Custom Exceptions?\\nClarity and Readability: Custom exceptions make your code more readable and easier to understand. Instead of just seeing a generic\\nException message, you can see a specific error message that tells you exactly what went wrong.Specific Error Handling: You can handle\\ndifferent types of errors differently. For example, you might want to log a MissingFileError differently than a NetworkError.\\nCode Organization: Custom exceptions help you organize your code and separate error handling logic from your main program logic.\\n\\n\""
      ]
     },
     "execution_count": 28,
     "metadata": {},
     "output_type": "execute_result"
    }
   ],
   "source": [
    "'''Q5. What are Custom Exceptions in python? Why do we need Custom Exceptions? Explain with an example.\n",
    "Custom Exceptions in Python\n",
    "Custom exceptions are like specialized error messages that you create to represent specific errors\n",
    "in your code. They're like having a unique code word for each type of problem that might occur.\n",
    "Why Use Custom Exceptions?\n",
    "Clarity and Readability: Custom exceptions make your code more readable and easier to understand. Instead of just seeing a generic\n",
    "Exception message, you can see a specific error message that tells you exactly what went wrong.Specific Error Handling: You can handle\n",
    "different types of errors differently. For example, you might want to log a MissingFileError differently than a NetworkError.\n",
    "Code Organization: Custom exceptions help you organize your code and separate error handling logic from your main program logic.\n",
    "\n",
    "'''"
   ]
  },
  {
   "cell_type": "code",
   "execution_count": 30,
   "id": "c66f5557-38ba-4791-bf8b-d05acc218b6d",
   "metadata": {},
   "outputs": [],
   "source": [
    "class BookNotFoundError(Exception):\n",
    "  \"\"\"Raised when a book is not found in the library.\"\"\"\n",
    "  pass\n",
    "\n",
    "class InvalidBorrowerError(Exception):\n",
    "  \"\"\"Raised when a borrower is not authorized.\"\"\"\n",
    "  pass\n",
    "\n",
    "class BookAlreadyBorrowedError(Exception):\n",
    "  \"\"\"Raised when a book is already borrowed.\"\"\"\n",
    "  pass\n",
    "\n",
    "def borrow_book(book_title, borrower_id):\n",
    "  try:\n",
    "    # Check if the book exists\n",
    "    book = find_book(book_title)\n",
    "\n",
    "    # Check if the borrower is authorized\n",
    "    is_authorized = check_borrower(borrower_id)\n",
    "\n",
    "    # Check if the book is already borrowed\n",
    "    is_borrowed = check_borrowed_status(book)\n",
    "\n",
    "    if not is_authorized:\n",
    "      raise InvalidBorrowerError(\"Borrower is not authorized.\")\n",
    "\n",
    "    if is_borrowed:\n",
    "      raise BookAlreadyBorrowedError(\"Book is already borrowed.\")\n",
    "\n",
    "    # Borrow the book\n",
    "    borrow(book, borrower_id)\n",
    "\n",
    "  except BookNotFoundError:\n",
    "    print(\"The book you requested is not available.\")\n",
    "  except InvalidBorrowerError as e:\n",
    "    print(f\"Error: {e}\")\n",
    "  except BookAlreadyBorrowedError:\n",
    "    print(\"This book is currently borrowed. Please try again later.\")\n",
    "\n",
    "# ... rest of your library management code ...\n"
   ]
  },
  {
   "cell_type": "code",
   "execution_count": 32,
   "id": "78662674-ed72-45c3-abe2-1bcb6929c472",
   "metadata": {},
   "outputs": [
    {
     "data": {
      "text/plain": [
       "'Q6. Create a custom exception class. Use this class to handle an exception.'"
      ]
     },
     "execution_count": 32,
     "metadata": {},
     "output_type": "execute_result"
    }
   ],
   "source": [
    "'''Q6. Create a custom exception class. Use this class to handle an exception.'''"
   ]
  },
  {
   "cell_type": "code",
   "execution_count": 38,
   "id": "b063d284-5151-44b3-b461-18072b5dda87",
   "metadata": {},
   "outputs": [
    {
     "name": "stdout",
     "output_type": "stream",
     "text": [
      "Error: Please order at least two items.\n"
     ]
    }
   ],
   "source": [
    "class InsufficientOrderError(Exception):\n",
    "  \"\"\"Raised when a customer orders less than two items.\"\"\"\n",
    "  def __init__(self, message=\"Please order at least two items.\"):\n",
    "    super().__init__(message)\n",
    "\n",
    "def place_order(items):\n",
    "  if len(items) < 2:\n",
    "    raise InsufficientOrderError()\n",
    "  else:\n",
    "    print(\"Order placed successfully!\")\n",
    "\n",
    "try:\n",
    "  order = [\"Latte\"]\n",
    "  place_order(order)\n",
    "except InsufficientOrderError as e:\n",
    "  print(f\"Error: {e}\")\n"
   ]
  },
  {
   "cell_type": "code",
   "execution_count": null,
   "id": "cdde1dc5-fc65-434d-a809-2d566e26db42",
   "metadata": {},
   "outputs": [],
   "source": []
  },
  {
   "cell_type": "code",
   "execution_count": null,
   "id": "b4734225-2b5c-47ac-8353-21dad5f1e596",
   "metadata": {},
   "outputs": [],
   "source": []
  },
  {
   "cell_type": "code",
   "execution_count": null,
   "id": "8a1999cf-4eef-4269-8eea-b6adff176e4e",
   "metadata": {},
   "outputs": [],
   "source": []
  }
 ],
 "metadata": {
  "kernelspec": {
   "display_name": "Python [conda env:base] *",
   "language": "python",
   "name": "conda-base-py"
  },
  "language_info": {
   "codemirror_mode": {
    "name": "ipython",
    "version": 3
   },
   "file_extension": ".py",
   "mimetype": "text/x-python",
   "name": "python",
   "nbconvert_exporter": "python",
   "pygments_lexer": "ipython3",
   "version": "3.12.7"
  }
 },
 "nbformat": 4,
 "nbformat_minor": 5
}
